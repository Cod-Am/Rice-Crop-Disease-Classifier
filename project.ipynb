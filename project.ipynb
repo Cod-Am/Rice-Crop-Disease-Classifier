{
 "cells": [
  {
   "cell_type": "markdown",
   "metadata": {},
   "source": [
    "# Rice Crop disease identifier\n",
    "This projects itends to assist farmers with identifying rice crop disease using Machine Learning model"
   ]
  },
  {
   "cell_type": "markdown",
   "metadata": {},
   "source": [
    "## Importing Libraries"
   ]
  },
  {
   "cell_type": "code",
   "execution_count": 3,
   "metadata": {},
   "outputs": [],
   "source": [
    "import os\n",
    "import numpy as np\n",
    "import pandas as pd\n",
    "import matplotlib.pyplot as plt\n",
    "import pickle\n",
    "\n",
    "import sklearn\n",
    "import skimage"
   ]
  },
  {
   "cell_type": "markdown",
   "metadata": {
    "vscode": {
     "languageId": "plaintext"
    }
   },
   "source": [
    "## Importing the dataset"
   ]
  },
  {
   "cell_type": "code",
   "execution_count": 7,
   "metadata": {},
   "outputs": [],
   "source": [
    "src_path={'Bacterial Blight Disease':'Rice_Diseases/Bacterial Blight Disease',\n",
    "'Blast Disease':'Rice_Diseases/Blast Disease',\n",
    "'Brown Spot Disease':'Rice_Diseases/Brown Spot Disease',\n",
    "'False Smut Disease':'Rice_Diseases/False Smut Disease'}\n",
    "bacterial_blight=[]\n",
    "blast=[]\n",
    "brown_spot=[]\n",
    "false_smut=[]\n",
    "\n",
    "for disease, path in src_path.items():\n",
    "    for file in os.listdir(path):\n",
    "        if disease=='Bacterial Blight Disease':\n",
    "            bacterial_blight.append(os.path.join(path, file))\n",
    "        if disease=='Blast Disease':\n",
    "            blast.append(os.path.join(path, file))\n",
    "        if disease=='Brown Spot Disease':\n",
    "            brown_spot.append(os.path.join(path, file))\n",
    "        if disease=='False Smut Disease':\n",
    "            false_smut.append(os.path.join(path, file))"
   ]
  },
  {
   "cell_type": "code",
   "execution_count": 8,
   "metadata": {},
   "outputs": [
    {
     "name": "stdout",
     "output_type": "stream",
     "text": [
      "['Rice_Diseases/Bacterial Blight Disease\\\\BB (1).jpg', 'Rice_Diseases/Bacterial Blight Disease\\\\BB (10).jpg', 'Rice_Diseases/Bacterial Blight Disease\\\\BB (11).jpg', 'Rice_Diseases/Bacterial Blight Disease\\\\BB (12).jpg', 'Rice_Diseases/Bacterial Blight Disease\\\\BB (13).jpg', 'Rice_Diseases/Bacterial Blight Disease\\\\BB (14).jpg', 'Rice_Diseases/Bacterial Blight Disease\\\\BB (15).jpg', 'Rice_Diseases/Bacterial Blight Disease\\\\BB (16).jpg', 'Rice_Diseases/Bacterial Blight Disease\\\\BB (17).jpg', 'Rice_Diseases/Bacterial Blight Disease\\\\BB (18).jpg', 'Rice_Diseases/Bacterial Blight Disease\\\\BB (19).jpg', 'Rice_Diseases/Bacterial Blight Disease\\\\BB (2).jpg', 'Rice_Diseases/Bacterial Blight Disease\\\\BB (20).jpg', 'Rice_Diseases/Bacterial Blight Disease\\\\BB (21).jpg', 'Rice_Diseases/Bacterial Blight Disease\\\\BB (22).jpg', 'Rice_Diseases/Bacterial Blight Disease\\\\BB (23).jpg', 'Rice_Diseases/Bacterial Blight Disease\\\\BB (24).jpg', 'Rice_Diseases/Bacterial Blight Disease\\\\BB (25).jpg', 'Rice_Diseases/Bacterial Blight Disease\\\\BB (26).jpg', 'Rice_Diseases/Bacterial Blight Disease\\\\BB (27).jpg', 'Rice_Diseases/Bacterial Blight Disease\\\\BB (28).jpg', 'Rice_Diseases/Bacterial Blight Disease\\\\BB (29).jpg', 'Rice_Diseases/Bacterial Blight Disease\\\\BB (3).jpg', 'Rice_Diseases/Bacterial Blight Disease\\\\BB (30).jpg', 'Rice_Diseases/Bacterial Blight Disease\\\\BB (31).jpg', 'Rice_Diseases/Bacterial Blight Disease\\\\BB (32).jpg', 'Rice_Diseases/Bacterial Blight Disease\\\\BB (33).jpg', 'Rice_Diseases/Bacterial Blight Disease\\\\BB (34).jpg', 'Rice_Diseases/Bacterial Blight Disease\\\\BB (35).jpg', 'Rice_Diseases/Bacterial Blight Disease\\\\BB (36).jpg', 'Rice_Diseases/Bacterial Blight Disease\\\\BB (37).jpg', 'Rice_Diseases/Bacterial Blight Disease\\\\BB (38).JPG', 'Rice_Diseases/Bacterial Blight Disease\\\\BB (39).jpg', 'Rice_Diseases/Bacterial Blight Disease\\\\BB (4).jpg', 'Rice_Diseases/Bacterial Blight Disease\\\\BB (40).jpg', 'Rice_Diseases/Bacterial Blight Disease\\\\BB (41).jpg', 'Rice_Diseases/Bacterial Blight Disease\\\\BB (42).jpg', 'Rice_Diseases/Bacterial Blight Disease\\\\BB (43).JPG', 'Rice_Diseases/Bacterial Blight Disease\\\\BB (44).JPG', 'Rice_Diseases/Bacterial Blight Disease\\\\BB (45).JPG', 'Rice_Diseases/Bacterial Blight Disease\\\\BB (46).JPG', 'Rice_Diseases/Bacterial Blight Disease\\\\BB (47).JPG', 'Rice_Diseases/Bacterial Blight Disease\\\\BB (48).jpg', 'Rice_Diseases/Bacterial Blight Disease\\\\BB (49).jpg', 'Rice_Diseases/Bacterial Blight Disease\\\\BB (5).jpg', 'Rice_Diseases/Bacterial Blight Disease\\\\BB (50).jpg', 'Rice_Diseases/Bacterial Blight Disease\\\\BB (6).jpg', 'Rice_Diseases/Bacterial Blight Disease\\\\BB (7).jpg', 'Rice_Diseases/Bacterial Blight Disease\\\\BB (8).jpg', 'Rice_Diseases/Bacterial Blight Disease\\\\BB (9).jpg']\n",
      "['Rice_Diseases/Blast Disease\\\\RB (1).jpg', 'Rice_Diseases/Blast Disease\\\\RB (10).jpg', 'Rice_Diseases/Blast Disease\\\\RB (11).jpg', 'Rice_Diseases/Blast Disease\\\\RB (12).JPG', 'Rice_Diseases/Blast Disease\\\\RB (13).JPG', 'Rice_Diseases/Blast Disease\\\\RB (14).jpg', 'Rice_Diseases/Blast Disease\\\\RB (15).jpg', 'Rice_Diseases/Blast Disease\\\\RB (16).jpg', 'Rice_Diseases/Blast Disease\\\\RB (17).jpg', 'Rice_Diseases/Blast Disease\\\\RB (18).jpg', 'Rice_Diseases/Blast Disease\\\\RB (19).JPG', 'Rice_Diseases/Blast Disease\\\\RB (2).jpg', 'Rice_Diseases/Blast Disease\\\\RB (20).jpg', 'Rice_Diseases/Blast Disease\\\\RB (21).jpg', 'Rice_Diseases/Blast Disease\\\\RB (22).jpg', 'Rice_Diseases/Blast Disease\\\\RB (23).JPG', 'Rice_Diseases/Blast Disease\\\\RB (24).JPG', 'Rice_Diseases/Blast Disease\\\\RB (25).jpg', 'Rice_Diseases/Blast Disease\\\\RB (26).JPG', 'Rice_Diseases/Blast Disease\\\\RB (27).jpg', 'Rice_Diseases/Blast Disease\\\\RB (28).JPG', 'Rice_Diseases/Blast Disease\\\\RB (29).JPG', 'Rice_Diseases/Blast Disease\\\\RB (3).JPG', 'Rice_Diseases/Blast Disease\\\\RB (30).JPG', 'Rice_Diseases/Blast Disease\\\\RB (31).JPG', 'Rice_Diseases/Blast Disease\\\\RB (32).JPG', 'Rice_Diseases/Blast Disease\\\\RB (33).JPG', 'Rice_Diseases/Blast Disease\\\\RB (34).JPG', 'Rice_Diseases/Blast Disease\\\\RB (35).JPG', 'Rice_Diseases/Blast Disease\\\\RB (36).jpg', 'Rice_Diseases/Blast Disease\\\\RB (37).JPG', 'Rice_Diseases/Blast Disease\\\\RB (38).JPG', 'Rice_Diseases/Blast Disease\\\\RB (39).JPG', 'Rice_Diseases/Blast Disease\\\\RB (4).JPG', 'Rice_Diseases/Blast Disease\\\\RB (40).jpg', 'Rice_Diseases/Blast Disease\\\\RB (41).jpg', 'Rice_Diseases/Blast Disease\\\\RB (42).JPG', 'Rice_Diseases/Blast Disease\\\\RB (43).jpg', 'Rice_Diseases/Blast Disease\\\\RB (44).JPG', 'Rice_Diseases/Blast Disease\\\\RB (45).jpg', 'Rice_Diseases/Blast Disease\\\\RB (46).jpg', 'Rice_Diseases/Blast Disease\\\\RB (47).jpg', 'Rice_Diseases/Blast Disease\\\\RB (48).JPG', 'Rice_Diseases/Blast Disease\\\\RB (49).JPG', 'Rice_Diseases/Blast Disease\\\\RB (5).JPG', 'Rice_Diseases/Blast Disease\\\\RB (50).JPG', 'Rice_Diseases/Blast Disease\\\\RB (6).jpg', 'Rice_Diseases/Blast Disease\\\\RB (7).JPG', 'Rice_Diseases/Blast Disease\\\\RB (8).JPG', 'Rice_Diseases/Blast Disease\\\\RB (9).JPG']\n",
      "['Rice_Diseases/Brown Spot Disease\\\\BS (1).jpg', 'Rice_Diseases/Brown Spot Disease\\\\BS (10).jpg', 'Rice_Diseases/Brown Spot Disease\\\\BS (11).jpg', 'Rice_Diseases/Brown Spot Disease\\\\BS (12).jpg', 'Rice_Diseases/Brown Spot Disease\\\\BS (13).jpg', 'Rice_Diseases/Brown Spot Disease\\\\BS (14).jpg', 'Rice_Diseases/Brown Spot Disease\\\\BS (15).jpg', 'Rice_Diseases/Brown Spot Disease\\\\BS (16).jpg', 'Rice_Diseases/Brown Spot Disease\\\\BS (17).jpg', 'Rice_Diseases/Brown Spot Disease\\\\BS (18).jpg', 'Rice_Diseases/Brown Spot Disease\\\\BS (19).jpg', 'Rice_Diseases/Brown Spot Disease\\\\BS (2).jpg', 'Rice_Diseases/Brown Spot Disease\\\\BS (20).jpg', 'Rice_Diseases/Brown Spot Disease\\\\BS (21).jpg', 'Rice_Diseases/Brown Spot Disease\\\\BS (22).jpg', 'Rice_Diseases/Brown Spot Disease\\\\BS (23).jpg', 'Rice_Diseases/Brown Spot Disease\\\\BS (24).jpg', 'Rice_Diseases/Brown Spot Disease\\\\BS (25).jpg', 'Rice_Diseases/Brown Spot Disease\\\\BS (26).jpg', 'Rice_Diseases/Brown Spot Disease\\\\BS (27).jpg', 'Rice_Diseases/Brown Spot Disease\\\\BS (28).jpg', 'Rice_Diseases/Brown Spot Disease\\\\BS (29).jpg', 'Rice_Diseases/Brown Spot Disease\\\\BS (3).jpg', 'Rice_Diseases/Brown Spot Disease\\\\BS (30).jpg', 'Rice_Diseases/Brown Spot Disease\\\\BS (31).jpg', 'Rice_Diseases/Brown Spot Disease\\\\BS (32).jpg', 'Rice_Diseases/Brown Spot Disease\\\\BS (33).jpg', 'Rice_Diseases/Brown Spot Disease\\\\BS (34).jpg', 'Rice_Diseases/Brown Spot Disease\\\\BS (35).jpg', 'Rice_Diseases/Brown Spot Disease\\\\BS (36).jpg', 'Rice_Diseases/Brown Spot Disease\\\\BS (37).jpg', 'Rice_Diseases/Brown Spot Disease\\\\BS (38).jpg', 'Rice_Diseases/Brown Spot Disease\\\\BS (39).jpg', 'Rice_Diseases/Brown Spot Disease\\\\BS (4).jpg', 'Rice_Diseases/Brown Spot Disease\\\\BS (40).jpg', 'Rice_Diseases/Brown Spot Disease\\\\BS (41).jpg', 'Rice_Diseases/Brown Spot Disease\\\\BS (42).jpg', 'Rice_Diseases/Brown Spot Disease\\\\BS (43).jpg', 'Rice_Diseases/Brown Spot Disease\\\\BS (44).jpg', 'Rice_Diseases/Brown Spot Disease\\\\BS (45).jpg', 'Rice_Diseases/Brown Spot Disease\\\\BS (46).jpg', 'Rice_Diseases/Brown Spot Disease\\\\BS (47).jpg', 'Rice_Diseases/Brown Spot Disease\\\\BS (48).jpg', 'Rice_Diseases/Brown Spot Disease\\\\BS (49).jpg', 'Rice_Diseases/Brown Spot Disease\\\\BS (5).jpg', 'Rice_Diseases/Brown Spot Disease\\\\BS (50).jpg', 'Rice_Diseases/Brown Spot Disease\\\\BS (6).jpg', 'Rice_Diseases/Brown Spot Disease\\\\BS (7).jpg', 'Rice_Diseases/Brown Spot Disease\\\\BS (8).jpg', 'Rice_Diseases/Brown Spot Disease\\\\BS (9).jpg']\n",
      "['Rice_Diseases/False Smut Disease\\\\FS (1).jpg', 'Rice_Diseases/False Smut Disease\\\\FS (10).jpg', 'Rice_Diseases/False Smut Disease\\\\FS (11).jpg', 'Rice_Diseases/False Smut Disease\\\\FS (12).jpg', 'Rice_Diseases/False Smut Disease\\\\FS (13).jpg', 'Rice_Diseases/False Smut Disease\\\\FS (14).jpg', 'Rice_Diseases/False Smut Disease\\\\FS (15).jpg', 'Rice_Diseases/False Smut Disease\\\\FS (16).jpg', 'Rice_Diseases/False Smut Disease\\\\FS (17).jpg', 'Rice_Diseases/False Smut Disease\\\\FS (18).jpg', 'Rice_Diseases/False Smut Disease\\\\FS (19).jpg', 'Rice_Diseases/False Smut Disease\\\\FS (2).jpg', 'Rice_Diseases/False Smut Disease\\\\FS (20).jpg', 'Rice_Diseases/False Smut Disease\\\\FS (21).jpg', 'Rice_Diseases/False Smut Disease\\\\FS (22).jpg', 'Rice_Diseases/False Smut Disease\\\\FS (23).jpg', 'Rice_Diseases/False Smut Disease\\\\FS (24).jpg', 'Rice_Diseases/False Smut Disease\\\\FS (25).jpg', 'Rice_Diseases/False Smut Disease\\\\FS (26).jpg', 'Rice_Diseases/False Smut Disease\\\\FS (27).jpg', 'Rice_Diseases/False Smut Disease\\\\FS (28).jpg', 'Rice_Diseases/False Smut Disease\\\\FS (29).jpg', 'Rice_Diseases/False Smut Disease\\\\FS (3).jpg', 'Rice_Diseases/False Smut Disease\\\\FS (30).jpg', 'Rice_Diseases/False Smut Disease\\\\FS (31).jpg', 'Rice_Diseases/False Smut Disease\\\\FS (32).jpg', 'Rice_Diseases/False Smut Disease\\\\FS (33).jpg', 'Rice_Diseases/False Smut Disease\\\\FS (34).jpg', 'Rice_Diseases/False Smut Disease\\\\FS (35).jpg', 'Rice_Diseases/False Smut Disease\\\\FS (36).jpg', 'Rice_Diseases/False Smut Disease\\\\FS (37).jpg', 'Rice_Diseases/False Smut Disease\\\\FS (38).jpg', 'Rice_Diseases/False Smut Disease\\\\FS (39).jpg', 'Rice_Diseases/False Smut Disease\\\\FS (4).jpg', 'Rice_Diseases/False Smut Disease\\\\FS (40).jpg', 'Rice_Diseases/False Smut Disease\\\\FS (41).jpg', 'Rice_Diseases/False Smut Disease\\\\FS (42).jpg', 'Rice_Diseases/False Smut Disease\\\\FS (43).jpg', 'Rice_Diseases/False Smut Disease\\\\FS (44).jpg', 'Rice_Diseases/False Smut Disease\\\\FS (45).jpg', 'Rice_Diseases/False Smut Disease\\\\FS (46).jpg', 'Rice_Diseases/False Smut Disease\\\\FS (47).jpg', 'Rice_Diseases/False Smut Disease\\\\FS (48).jpg', 'Rice_Diseases/False Smut Disease\\\\FS (49).jpg', 'Rice_Diseases/False Smut Disease\\\\FS (5).jpg', 'Rice_Diseases/False Smut Disease\\\\FS (50).jpg', 'Rice_Diseases/False Smut Disease\\\\FS (6).jpg', 'Rice_Diseases/False Smut Disease\\\\FS (7).jpg', 'Rice_Diseases/False Smut Disease\\\\FS (8).jpg', 'Rice_Diseases/False Smut Disease\\\\FS (9).jpg']\n"
     ]
    }
   ],
   "source": [
    "print(bacterial_blight)\n",
    "print(blast)\n",
    "print(brown_spot)\n",
    "print(false_smut)"
   ]
  },
  {
   "cell_type": "code",
   "execution_count": 9,
   "metadata": {},
   "outputs": [
    {
     "name": "stdout",
     "output_type": "stream",
     "text": [
      "50\n",
      "50\n",
      "50\n",
      "50\n"
     ]
    }
   ],
   "source": [
    "print(len(bacterial_blight))\n",
    "print(len(blast))\n",
    "print(len(brown_spot))\n",
    "print(len(false_smut))"
   ]
  }
 ],
 "metadata": {
  "kernelspec": {
   "display_name": "rice-disease",
   "language": "python",
   "name": "python3"
  },
  "language_info": {
   "codemirror_mode": {
    "name": "ipython",
    "version": 3
   },
   "file_extension": ".py",
   "mimetype": "text/x-python",
   "name": "python",
   "nbconvert_exporter": "python",
   "pygments_lexer": "ipython3",
   "version": "3.10.14"
  }
 },
 "nbformat": 4,
 "nbformat_minor": 2
}
