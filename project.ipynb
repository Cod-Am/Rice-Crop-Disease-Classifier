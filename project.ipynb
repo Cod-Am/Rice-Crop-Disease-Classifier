{
 "cells": [
  {
   "cell_type": "markdown",
   "metadata": {},
   "source": [
    "# Rice Crop disease identifier\n",
    "This projects itends to assist farmers with identifying rice crop disease using Machine Learning model"
   ]
  },
  {
   "cell_type": "markdown",
   "metadata": {},
   "source": [
    "## Importing Libraries"
   ]
  },
  {
   "cell_type": "code",
   "execution_count": null,
   "metadata": {},
   "outputs": [],
   "source": [
    "import os\n",
    "import numpy as np\n",
    "import pandas as pd\n",
    "import matplotlib.pyplot as plt\n",
    "import joblib\n",
    "\n",
    "import sklearn\n",
    "from sklearn.model_selection import train_test_split,GridSearchCV\n",
    "from sklearn.svm import SVC\n",
    "from sklearn.neural_network import MLPClassifier\n",
    "from sklearn.metrics import accuracy_score\n",
    "\n",
    "import skimage\n",
    "from skimage.io import imread,imshow\n",
    "from skimage.feature import hog\n",
    "from skimage.transform import rescale,resize"
   ]
  },
  {
   "cell_type": "markdown",
   "metadata": {
    "vscode": {
     "languageId": "plaintext"
    }
   },
   "source": [
    "## Importing the dataset"
   ]
  },
  {
   "cell_type": "code",
   "execution_count": null,
   "metadata": {},
   "outputs": [],
   "source": [
    "src_path={'Bacterial Blight Disease':'Rice_Diseases/Bacterial Blight Disease',\n",
    "'Blast Disease':'Rice_Diseases/Blast Disease',\n",
    "'Brown Spot Disease':'Rice_Diseases/Brown Spot Disease',\n",
    "'False Smut Disease':'Rice_Diseases/False Smut Disease',\n",
    "'Tungro':'Rice_Diseases/Tungro'}\n",
    "\n",
    "bacterial_blight=[]\n",
    "blast=[]\n",
    "brown_spot=[]\n",
    "false_smut=[]\n",
    "tungro=[]\n",
    "\n",
    "for disease, path in src_path.items():\n",
    "    for file in os.listdir(path):\n",
    "        if disease=='Bacterial Blight Disease':\n",
    "            bacterial_blight.append(os.path.join(path, file))\n",
    "        if disease=='Blast Disease':\n",
    "            blast.append(os.path.join(path, file))\n",
    "        if disease=='Brown Spot Disease':\n",
    "            brown_spot.append(os.path.join(path, file))\n",
    "        if disease=='False Smut Disease':\n",
    "            false_smut.append(os.path.join(path, file))\n",
    "        if disease=='Tungro':\n",
    "            tungro.append(os.path.join(path, file))"
   ]
  },
  {
   "cell_type": "code",
   "execution_count": null,
   "metadata": {},
   "outputs": [],
   "source": [
    "print(bacterial_blight)\n",
    "print(blast)\n",
    "print(brown_spot)\n",
    "print(false_smut)\n",
    "print(tungro)"
   ]
  },
  {
   "cell_type": "code",
   "execution_count": null,
   "metadata": {},
   "outputs": [],
   "source": [
    "print(len(bacterial_blight))\n",
    "print(len(blast))\n",
    "print(len(brown_spot))\n",
    "print(len(false_smut))\n",
    "print(len(tungro))"
   ]
  },
  {
   "cell_type": "markdown",
   "metadata": {},
   "source": [
    "## Visualisation"
   ]
  },
  {
   "cell_type": "code",
   "execution_count": null,
   "metadata": {},
   "outputs": [],
   "source": [
    "bacterial_sample_image=bacterial_blight[0]\n",
    "blast_sample_image=blast[0]\n",
    "brown_spot_sample_image=brown_spot[0]\n",
    "false_smut_sample_image=false_smut[0]\n",
    "\n",
    "fig=plt.figure(figsize=(15,8))\n",
    "fig.add_subplot(1,4,1)\n",
    "# plt.axis('off')\n",
    "plt.title('Bacterial Blight Disease Sample Image')\n",
    "imshow(bacterial_sample_image)\n",
    "\n",
    "fig.add_subplot(1,4,2)\n",
    "# plt.axis('off')\n",
    "plt.title('Blast Disease Sample Image')\n",
    "imshow(blast_sample_image)\n",
    "\n",
    "fig.add_subplot(1,4,3)\n",
    "# plt.axis('off')\n",
    "plt.title('Bacterial Blight Disease Sample Image')\n",
    "imshow(brown_spot_sample_image)\n",
    "\n",
    "fig.add_subplot(1,4,4)\n",
    "# plt.axis('off')\n",
    "plt.title('Bacterial Blight Disease Sample Image')\n",
    "imshow(false_smut_sample_image)"
   ]
  },
  {
   "cell_type": "markdown",
   "metadata": {},
   "source": [
    "## Preprocess"
   ]
  },
  {
   "cell_type": "code",
   "execution_count": null,
   "metadata": {},
   "outputs": [],
   "source": [
    "combined_path_dataset=[]\n",
    "for path in bacterial_blight:\n",
    "    combined_path_dataset.append(path)\n",
    "\n",
    "for path in blast:\n",
    "    combined_path_dataset.append(path)\n",
    "\n",
    "for path in brown_spot:\n",
    "    combined_path_dataset.append(path)\n",
    "\n",
    "for path in false_smut:\n",
    "    combined_path_dataset.append(path)\n",
    "\n",
    "for path in tungro:\n",
    "    combined_path_dataset.append(path)"
   ]
  },
  {
   "cell_type": "code",
   "execution_count": null,
   "metadata": {},
   "outputs": [],
   "source": [
    "path=combined_path_dataset[12]\n",
    "image=imread(path,as_gray=True)\n",
    "rescaled_image=resize(image,(200,200))\n",
    "# dasify,daisified_image=daisy(rescaled_image,step=180, radius=58, rings=2, histograms=6, orientations=8, visualize=True)\n",
    "# fig=plt.figure(figsize=(10,6))\n",
    "# plt.subplot(1,2,1)\n",
    "# imshow(rescaled_image)\n",
    "# plt.subplot(1,2,2)\n",
    "# imshow(image)\n",
    "# print(dasify.shape)\n",
    "hogify, hog_img = hog(\n",
    "    image, orientations=8,\n",
    "    pixels_per_cell=(4, 4),\n",
    "    cells_per_block=(8,8),\n",
    "    visualize=True\n",
    ")\n",
    "\n",
    "fig, ax = plt.subplots()\n",
    "ax.axis(\"off\")\n",
    "ax.imshow(hog_img)\n",
    "ax.set_title(f\"Hog Image\")\n",
    "plt.show()\n",
    "print(hogify)\n",
    "print(hogify.shape)"
   ]
  },
  {
   "cell_type": "code",
   "execution_count": null,
   "metadata": {},
   "outputs": [],
   "source": [
    "print(len(combined_path_dataset))"
   ]
  },
  {
   "cell_type": "code",
   "execution_count": null,
   "metadata": {},
   "outputs": [],
   "source": [
    "hogified_images=[]\n",
    "for path in combined_path_dataset:\n",
    "    image=imread(path,as_gray=True)\n",
    "    resized_image=resize(image,(200,200))\n",
    "    hogify= hog(resized_image, \n",
    "                orientations=8,\n",
    "                pixels_per_cell=(8, 8),\n",
    "                cells_per_block=(16,16)\n",
    "                )\n",
    "    print(hogify.shape)\n",
    "    hogified_images.append(hogify)\n"
   ]
  },
  {
   "cell_type": "markdown",
   "metadata": {},
   "source": [
    "## Building Dataset and Training Model "
   ]
  },
  {
   "cell_type": "code",
   "execution_count": null,
   "metadata": {},
   "outputs": [],
   "source": [
    "x=hogified_images\n",
    "y_bb=[]\n",
    "y_bd=[]\n",
    "y_bs=[]\n",
    "y_fs=[]\n",
    "y_t=[]\n",
    "y=[]\n",
    "for i in range(0,len(bacterial_blight)):\n",
    "    y_bb.append(1)\n",
    "\n",
    "for i in range(0,len(blast)):\n",
    "    y_bd.append(2)\n",
    "\n",
    "for i in range(0,len(brown_spot)):\n",
    "    y_fs.append(3)\n",
    "\n",
    "for i in range(0,len(false_smut)):\n",
    "    y_bs.append(4)\n",
    "\n",
    "for i in range(0,len(tungro)):\n",
    "    y_t.append(5)"
   ]
  },
  {
   "cell_type": "code",
   "execution_count": null,
   "metadata": {},
   "outputs": [],
   "source": [
    "y=y_bb+y_bd+y_fs+y_bs+y_t\n",
    "print(x[0].shape)\n",
    "print(x[1])\n",
    "print(y)"
   ]
  },
  {
   "cell_type": "code",
   "execution_count": null,
   "metadata": {},
   "outputs": [],
   "source": [
    "xtrain, xtest, ytrain, ytest = train_test_split(x, y, test_size=0.2, random_state=42)"
   ]
  },
  {
   "cell_type": "code",
   "execution_count": null,
   "metadata": {},
   "outputs": [],
   "source": [
    "# Ensure you do not overwrite built-in names\n",
    "data_length = int(len(x) * 0.8)\n",
    "start_index = 0\n",
    "\n",
    "for i in range(0, data_length, 100):\n",
    "    xval = x[i:i+100]\n",
    "    yval = y[i:i+100]\n",
    "    \n",
    "    mlpc = MLPClassifier(activation='tanh', alpha=0.0001, batch_size='auto', hidden_layer_sizes=(150, 150, 150), \n",
    "                         learning_rate='adaptive', max_iter=100, solver='adam', tol=1e-8, verbose=True, warm_start=True)\n",
    "\n",
    "    mlpc.fit(xval, yval)\n"
   ]
  },
  {
   "cell_type": "code",
   "execution_count": null,
   "metadata": {},
   "outputs": [],
   "source": [
    "ypred=mlpc.predict(xtest)\n",
    "print(f\"accuracy:{accuracy_score(ypred,ypred)}\")"
   ]
  },
  {
   "cell_type": "markdown",
   "metadata": {},
   "source": [
    "## Deploying the model"
   ]
  },
  {
   "cell_type": "code",
   "execution_count": null,
   "metadata": {},
   "outputs": [],
   "source": [
    "# ['bz2', 'gzip', 'lzma', None, 'pickle', 'zipfile']\n",
    "joblib.dump(mlpc,open(\"model_100.pkl\",'wb'))\n"
   ]
  },
  {
   "cell_type": "code",
   "execution_count": null,
   "metadata": {},
   "outputs": [],
   "source": [
    "mlpc=joblib.load(open('model_100.pkl','rb'))"
   ]
  }
 ],
 "metadata": {
  "kernelspec": {
   "display_name": "rice-disease",
   "language": "python",
   "name": "python3"
  },
  "language_info": {
   "codemirror_mode": {
    "name": "ipython",
    "version": 3
   },
   "file_extension": ".py",
   "mimetype": "text/x-python",
   "name": "python",
   "nbconvert_exporter": "python",
   "pygments_lexer": "ipython3",
   "version": "3.11.9"
  }
 },
 "nbformat": 4,
 "nbformat_minor": 2
}
