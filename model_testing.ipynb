{
 "cells": [
  {
   "cell_type": "code",
   "execution_count": 1,
   "metadata": {},
   "outputs": [],
   "source": [
    "import os\n",
    "import joblib\n",
    "from skimage.io import imread\n",
    "from skimage.feature import hog\n",
    "from skimage.transform import resize\n",
    "from werkzeug.utils import secure_filename\n",
    "import matplotlib.pyplot as plt"
   ]
  },
  {
   "cell_type": "code",
   "execution_count": 10,
   "metadata": {},
   "outputs": [
    {
     "name": "stdout",
     "output_type": "stream",
     "text": [
      "image hog generated\n",
      "Prediction type: <class 'numpy.ndarray'>\n",
      "Prediction: [5]\n"
     ]
    }
   ],
   "source": [
    "UPLOAD_FOLDER=r'D:\\IDEs\\anaconda\\envs\\rice-disease\\\\data\\Rice_Diseases\\uploads'\n",
    "# preprocessing the image\n",
    "def preprocess(image):\n",
    "    greyscale_image=imread(image,as_gray=True)\n",
    "    greyscale_image_resized = resize(greyscale_image, (200,200))\n",
    "    hogify = hog(greyscale_image_resized, orientations=8, pixels_per_cell=(8, 8), cells_per_block=(16,16))\n",
    "    return hogify\n",
    "\n",
    "# predicting the model\n",
    "def predict(hogify):\n",
    "    model_path = r'D:\\IDEs\\anaconda\\envs\\rice-disease\\models\\model.pkl'\n",
    "    model = joblib.load(model_path)\n",
    "    prediction = model.predict([hogify])\n",
    "    print(f\"Prediction type: {type(prediction)}\")\n",
    "    print(f\"Prediction: {prediction}\")\n",
    "    return prediction\n",
    "\n",
    "image_path=r'D:\\IDEs\\anaconda\\envs\\rice-disease\\\\data\\Rice_Diseases\\uploads\\\\blast.jpg'\n",
    "\n",
    "hogify = preprocess(image_path)\n",
    "print('image hog generated' if hogify is not None else 'image hog not generated')\n",
    "prediction = predict(hogify)"
   ]
  }
 ],
 "metadata": {
  "kernelspec": {
   "display_name": "rice-disease",
   "language": "python",
   "name": "python3"
  },
  "language_info": {
   "codemirror_mode": {
    "name": "ipython",
    "version": 3
   },
   "file_extension": ".py",
   "mimetype": "text/x-python",
   "name": "python",
   "nbconvert_exporter": "python",
   "pygments_lexer": "ipython3",
   "version": "3.11.9"
  }
 },
 "nbformat": 4,
 "nbformat_minor": 2
}
